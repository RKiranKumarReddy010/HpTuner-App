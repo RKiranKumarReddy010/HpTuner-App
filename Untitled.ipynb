{
 "cells": [
  {
   "cell_type": "code",
   "execution_count": 1,
   "id": "809108ef-701c-4f94-842b-8e014e7cc265",
   "metadata": {},
   "outputs": [
    {
     "data": {
      "text/plain": [
       "'2.0.1+cpu'"
      ]
     },
     "execution_count": 1,
     "metadata": {},
     "output_type": "execute_result"
    }
   ],
   "source": [
    "import torch\n",
    "torch .__version__\n"
   ]
  },
  {
   "cell_type": "code",
   "execution_count": 2,
   "id": "107a97e1-17c7-4a59-9dbc-edcbb6856ecc",
   "metadata": {},
   "outputs": [
    {
     "name": "stdout",
     "output_type": "stream",
     "text": [
      "tensor(7)\n",
      "0\n",
      "torch.Size([])\n",
      "torch.Size([])\n"
     ]
    }
   ],
   "source": [
    "va = torch.tensor(7)\n",
    "print(va)\n",
    "print(va.ndim)\n",
    "print(va.shape)\n",
    "print(va.size())"
   ]
  },
  {
   "cell_type": "code",
   "execution_count": 3,
   "id": "bc06fe8e-e5d6-4456-87b2-87d6b4600134",
   "metadata": {},
   "outputs": [
    {
     "data": {
      "text/plain": [
       "tensor([[0.9788, 0.1059, 0.6460],\n",
       "        [0.7206, 0.1220, 0.7558]])"
      ]
     },
     "execution_count": 3,
     "metadata": {},
     "output_type": "execute_result"
    }
   ],
   "source": [
    "va1 = torch.rand(size=(2,3))\n",
    "va1"
   ]
  },
  {
   "cell_type": "code",
   "execution_count": 4,
   "id": "a00ca517-5ac4-4a43-a502-8ffb0a9c389b",
   "metadata": {},
   "outputs": [
    {
     "data": {
      "text/plain": [
       "tensor([[0.3980, 0.8182],\n",
       "        [0.9251, 0.5243],\n",
       "        [0.8745, 0.6491]])"
      ]
     },
     "execution_count": 4,
     "metadata": {},
     "output_type": "execute_result"
    }
   ],
   "source": [
    "va2 = torch.rand(size=(3,2))\n",
    "va2"
   ]
  },
  {
   "cell_type": "code",
   "execution_count": 5,
   "id": "03628730-accc-4873-9453-0f2227e63a99",
   "metadata": {},
   "outputs": [],
   "source": [
    "a = torch.arange(1,10,2) \n",
    "#here the three parameters are there start index, end index and steps"
   ]
  },
  {
   "cell_type": "code",
   "execution_count": 6,
   "id": "aef02b5d-ae60-4ab2-8ccd-9179d9925d2a",
   "metadata": {},
   "outputs": [
    {
     "data": {
      "text/plain": [
       "tensor([[1.0525, 1.2757],\n",
       "        [1.0606, 1.1442]])"
      ]
     },
     "execution_count": 6,
     "metadata": {},
     "output_type": "execute_result"
    }
   ],
   "source": [
    "va1 @ va2"
   ]
  },
  {
   "cell_type": "code",
   "execution_count": 7,
   "id": "169a85db-1761-4038-afe3-4f90d13a244b",
   "metadata": {},
   "outputs": [
    {
     "data": {
      "text/plain": [
       "tensor([[0.3980, 0.8182, 0.9251],\n",
       "        [0.5243, 0.8745, 0.6491]])"
      ]
     },
     "execution_count": 7,
     "metadata": {},
     "output_type": "execute_result"
    }
   ],
   "source": [
    "a2 = va2.reshape((2,3))\n",
    "a2"
   ]
  },
  {
   "cell_type": "code",
   "execution_count": null,
   "id": "97ef7a55-2e4d-4afe-8a35-8c4a2e661ed8",
   "metadata": {},
   "outputs": [],
   "source": []
  }
 ],
 "metadata": {
  "kernelspec": {
   "display_name": "Python 3 (ipykernel)",
   "language": "python",
   "name": "python3"
  },
  "language_info": {
   "codemirror_mode": {
    "name": "ipython",
    "version": 3
   },
   "file_extension": ".py",
   "mimetype": "text/x-python",
   "name": "python",
   "nbconvert_exporter": "python",
   "pygments_lexer": "ipython3",
   "version": "3.11.1"
  }
 },
 "nbformat": 4,
 "nbformat_minor": 5
}
