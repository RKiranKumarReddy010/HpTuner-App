{
 "cells": [
  {
   "cell_type": "code",
   "execution_count": 1,
   "id": "5e82621b-2a5b-456b-af9b-f0f36a0207f3",
   "metadata": {},
   "outputs": [],
   "source": [
    "# import modules\n",
    "import torch"
   ]
  },
  {
   "cell_type": "code",
   "execution_count": 3,
   "id": "2317e722-cd6a-4dd3-b834-afb375d6d867",
   "metadata": {
    "scrolled": true
   },
   "outputs": [
    {
     "data": {
      "text/plain": [
       "tensor(4.)"
      ]
     },
     "execution_count": 3,
     "metadata": {},
     "output_type": "execute_result"
    }
   ],
   "source": [
    "#pytorch is a library that deals with tensors again a tensor is a number,vector,matrix or n-dimentional array or a single number\n",
    "t1 = torch.tensor(4.)\n",
    "t1"
   ]
  },
  {
   "cell_type": "code",
   "execution_count": 4,
   "id": "a833543b-27bb-4ee1-95bf-6ec1810140e7",
   "metadata": {},
   "outputs": [
    {
     "data": {
      "text/plain": [
       "torch.float32"
      ]
     },
     "execution_count": 4,
     "metadata": {},
     "output_type": "execute_result"
    }
   ],
   "source": [
    "t1.dtype"
   ]
  },
  {
   "cell_type": "code",
   "execution_count": 14,
   "id": "5ec9f4d9-8a2b-437f-a5d6-c7344a210a69",
   "metadata": {},
   "outputs": [],
   "source": [
    "t2 = torch.tensor([1,2,3,4],requires_grad)\n",
    "t3 = torch.tensor([[1,2],[3,4],[5,6],[2,3],dtype=float)"
   ]
  },
  {
   "cell_type": "code",
   "execution_count": 18,
   "id": "08ffda2e-154d-4ff5-b8e9-96c0af68b923",
   "metadata": {},
   "outputs": [
    {
     "data": {
      "text/plain": [
       "tensor([2, 4, 6, 8])"
      ]
     },
     "execution_count": 18,
     "metadata": {},
     "output_type": "execute_result"
    }
   ],
   "source": [
    "t4 = t2 * 2\n",
    "t4"
   ]
  },
  {
   "cell_type": "code",
   "execution_count": 21,
   "id": "81933d4d-35f1-4d74-911f-bd2a91afaf78",
   "metadata": {},
   "outputs": [],
   "source": [
    "x = torch.tensor(3.)\n",
    "w = torch.tensor(4.,requires_grad=True)\n",
    "b = torch.tensor(5.,requires_grad=True)"
   ]
  },
  {
   "cell_type": "code",
   "execution_count": 22,
   "id": "3d7b6e63-1ad7-4702-bd6f-f45d5aae4b82",
   "metadata": {},
   "outputs": [
    {
     "data": {
      "text/plain": [
       "tensor(17., grad_fn=<AddBackward0>)"
      ]
     },
     "execution_count": 22,
     "metadata": {},
     "output_type": "execute_result"
    }
   ],
   "source": [
    "Y = (w*x)+b\n",
    "Y"
   ]
  },
  {
   "cell_type": "code",
   "execution_count": 23,
   "id": "ecf68c58-1b0b-41a9-a198-04654c409aa3",
   "metadata": {},
   "outputs": [],
   "source": [
    "Y.backward()"
   ]
  },
  {
   "cell_type": "code",
   "execution_count": 25,
   "id": "087bfb5f-74ed-409f-b03b-072d2cca0634",
   "metadata": {},
   "outputs": [
    {
     "data": {
      "text/plain": [
       "tensor(3.)"
      ]
     },
     "execution_count": 25,
     "metadata": {},
     "output_type": "execute_result"
    }
   ],
   "source": [
    "w.grad"
   ]
  },
  {
   "cell_type": "code",
   "execution_count": 30,
   "id": "3d65a75d-de69-4ca4-8e90-a5326181392f",
   "metadata": {},
   "outputs": [
    {
     "data": {
      "text/plain": [
       "tensor([[1., 1., 1.]])"
      ]
     },
     "execution_count": 30,
     "metadata": {},
     "output_type": "execute_result"
    }
   ],
   "source": [
    "# full function is used to fill the tensor with an element\n",
    "a = torch.ones([1,3])\n",
    "a\n",
    "#"
   ]
  },
  {
   "cell_type": "code",
   "execution_count": 27,
   "id": "734de3c9-ae53-4291-96b6-e16e3cb28f1e",
   "metadata": {},
   "outputs": [
    {
     "data": {
      "text/plain": [
       "tensor([[1., 1., 1.]])"
      ]
     },
     "execution_count": 27,
     "metadata": {},
     "output_type": "execute_result"
    }
   ],
   "source": []
  },
  {
   "cell_type": "code",
   "execution_count": null,
   "id": "79b8df37-f64d-4091-a1ff-aa85e408e454",
   "metadata": {},
   "outputs": [],
   "source": []
  }
 ],
 "metadata": {
  "kernelspec": {
   "display_name": "Python 3 (ipykernel)",
   "language": "python",
   "name": "python3"
  },
  "language_info": {
   "codemirror_mode": {
    "name": "ipython",
    "version": 3
   },
   "file_extension": ".py",
   "mimetype": "text/x-python",
   "name": "python",
   "nbconvert_exporter": "python",
   "pygments_lexer": "ipython3",
   "version": "3.12.2"
  }
 },
 "nbformat": 4,
 "nbformat_minor": 5
}
